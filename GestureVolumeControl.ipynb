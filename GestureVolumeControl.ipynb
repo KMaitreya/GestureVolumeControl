{
 "cells": [
  {
   "cell_type": "code",
   "execution_count": null,
   "id": "2f92abb0",
   "metadata": {},
   "outputs": [],
   "source": [
    "#Gesture Volume Control"
   ]
  },
  {
   "cell_type": "code",
   "execution_count": null,
   "id": "6d2a1aaf",
   "metadata": {},
   "outputs": [],
   "source": [
    "#importing libraries\n",
    "import cv2\n",
    "import time\n",
    "import math\n",
    "import numpy as np\n",
    "import mediapipe as mp\n",
    "from ctypes import cast, POINTER\n",
    "from comtypes import CLSCTX_ALL\n",
    "from pycaw.pycaw import AudioUtilities, IAudioEndpointVolume"
   ]
  },
  {
   "cell_type": "code",
   "execution_count": null,
   "id": "ecf6af9f",
   "metadata": {},
   "outputs": [],
   "source": [
    "#required variables\n",
    "previous_time=0\n",
    "current_time=0\n",
    "\n",
    "index_x=0 \n",
    "index_y=0\n",
    "\n",
    "thumb_x=0\n",
    "thumb_y=0\n",
    "\n",
    "lengths=[]"
   ]
  },
  {
   "cell_type": "code",
   "execution_count": null,
   "id": "53422562",
   "metadata": {
    "tags": []
   },
   "outputs": [],
   "source": [
    "#audio library initialization\n",
    "devices=AudioUtilities.GetSpeakers()\n",
    "interface=devices.Activate(IAudioEndpointVolume._iid_, CLSCTX_ALL, None)\n",
    "volume=cast(interface, POINTER(IAudioEndpointVolume))\n",
    "range=volume.GetVolumeRange()\n",
    "\n",
    "minVol=range[0]\n",
    "maxVol=range[1]\n",
    "\n",
    "#capturing the video\n",
    "cap=cv2.VideoCapture(0)\n",
    "\n",
    "#this will help us detect the hand and draw the reference points\n",
    "mphand=mp.solutions.hands\n",
    "hands=mphand.Hands(max_num_hands=1, min_detection_confidence=0.9)\n",
    "mpDraw=mp.solutions.drawing_utils    #this statement will help us plot the 21 reference points and their connections\n",
    "\n",
    "while True:\n",
    "    success, img=cap.read()\n",
    "    \n",
    "    #converting image to rgb\n",
    "    img_rgb=cv2.cvtColor(img, cv2.COLOR_BGR2RGB)\n",
    "    \n",
    "    #detecting hand/s using 21 points of reference, these reference points will be plotted on the hand\n",
    "    result=hands.process(img_rgb)\n",
    "    if result.multi_hand_landmarks:\n",
    "        for handlms in result.multi_hand_landmarks:    #loop: handlms gives us the number of hands i.e. 1 hand, 2hands...\n",
    "            for id, lm in enumerate(handlms.landmark):    #loop: gives us individual reference point on each hand\n",
    "                h, w, c=img.shape                         #gives us the dimensions of the frame\n",
    "                cx, cy=int(lm.x*w), int(lm.y*h)           #give us the coordinates for the reference points\n",
    "                if id==8:\n",
    "                    cv2.circle(img, (cx, cy), 20, (255, 0, 255), cv2.FILLED)\n",
    "                    index_x, index_y=cx, cy\n",
    "                elif id==4:\n",
    "                    cv2.circle(img, (cx, cy), 20, (255, 0, 255), cv2.FILLED)\n",
    "                    thumb_x, thumb_y=cx, cy\n",
    "                cv2.line(img, (index_x, index_y), (thumb_x, thumb_y), (255, 0, 255), 3)\n",
    "                length=math.dist((index_x, index_y), (thumb_x, thumb_y))\n",
    "                lengths.append(length)\n",
    "                vol=np.interp(length, [0, 200], [minVol, maxVol])\n",
    "                volume.SetMasterVolumeLevel(vol, None)\n",
    "            mpDraw.draw_landmarks(img, handlms, mphand.HAND_CONNECTIONS)\n",
    "            #the above statement will actually plot the 21 reference points and their connections\n",
    "    \n",
    "    #calculating the frame rate\n",
    "    current_time=time.time()\n",
    "    frame_rate=1/(current_time-previous_time)\n",
    "    previous_time=current_time\n",
    "    \n",
    "    img=cv2.flip(img,1)\n",
    "    cv2.putText(img, str(int(frame_rate)), (20, 40), cv2.FONT_HERSHEY_PLAIN, 3, (0, 0, 255), 3)\n",
    "    cv2.imshow(\"camera\", img)\n",
    "    cv2.waitKey(1)"
   ]
  },
  {
   "cell_type": "code",
   "execution_count": null,
   "id": "fbe103c2",
   "metadata": {},
   "outputs": [],
   "source": []
  }
 ],
 "metadata": {
  "kernelspec": {
   "name": "python3",
   "display_name": "Python 3.8.8 64-bit ('tensorflow': conda)"
  },
  "language_info": {
   "codemirror_mode": {
    "name": "ipython",
    "version": 3
   },
   "file_extension": ".py",
   "mimetype": "text/x-python",
   "name": "python",
   "nbconvert_exporter": "python",
   "pygments_lexer": "ipython3",
   "version": "3.8.8"
  },
  "interpreter": {
   "hash": "adbe46018c70e9352393b274d6b2480849c020eee9c0dc58b148aa8799071329"
  }
 },
 "nbformat": 4,
 "nbformat_minor": 5
}